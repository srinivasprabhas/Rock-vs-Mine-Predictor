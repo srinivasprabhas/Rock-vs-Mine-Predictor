{
 "cells": [
  {
   "cell_type": "code",
   "execution_count": 14,
   "metadata": {},
   "outputs": [],
   "source": [
    "import numpy as np\n",
    "import pandas as pd\n",
    "from sklearn.model_selection import train_test_split\n",
    "from sklearn.linear_model import LogisticRegression\n",
    "from sklearn.metrics import accuracy_score\n",
    "import tkinter as tk\n",
    "from tkinter import messagebox\n",
    "\n",
    "sonar_data = pd.read_csv('sonar data.csv', header=None)\n",
    "\n",
    "x = sonar_data.iloc[:, :-1]\n",
    "y = sonar_data.iloc[:, -1]\n",
    "\n",
    "x_train, x_test, y_train, y_test = train_test_split(x, y, test_size=0.1, stratify=y, random_state=1)\n",
    "\n",
    "model = LogisticRegression(max_iter=1000)\n",
    "model.fit(x_train, y_train)\n",
    "\n",
    "def predict():\n",
    "    input_data = input_entry.get()\n",
    "    try:\n",
    "        input_data_list = list(map(float, input_data.split(',')))\n",
    "        if len(input_data_list) != 60:\n",
    "            messagebox.showerror(\"Input error\", \"Please enter exactly 60 values separated by commas.\")\n",
    "            return\n",
    "    except ValueError:\n",
    "        messagebox.showerror(\"Input error\", \"Please enter valid numbers separated by commas.\")\n",
    "        return\n",
    "\n",
    "    input_data_as_numpy_array = np.asarray(input_data_list)\n",
    "    input_data_reshaped = input_data_as_numpy_array.reshape(1, -1)\n",
    "\n",
    "    prediction = model.predict(input_data_reshaped)\n",
    "    result = 'Rock' if prediction[0] == 'R' else 'Mine'\n",
    "    \n",
    "    if result == 'Rock':\n",
    "        result_label.config(text=f'The object is a {result}', fg='green', font=('Arial', 16, 'bold'))\n",
    "    else:\n",
    "        result_label.config(text=f'The object is a {result}!!', fg='red', font=('Arial', 16, 'bold'))\n",
    "\n",
    "window = tk.Tk()\n",
    "window.title(\"Rock or Mine Predictor\")\n",
    "window.geometry(\"900x400\")  \n",
    "\n",
    "input_label = tk.Label(window, text=\"Enter 60 features separated by commas\")\n",
    "input_label.grid(row=0, column=0, padx=10, pady=10)\n",
    "input_entry = tk.Entry(window, width=100)\n",
    "input_entry.grid(row=0, column=1, padx=10, pady=10)\n",
    "\n",
    "detect_button = tk.Button(window, text=\"Detect\", command=predict)\n",
    "detect_button.grid(row=1, column=0, columnspan=2, pady=20)\n",
    "\n",
    "result_label = tk.Label(window, text=\"\", font=('Arial', 16))\n",
    "result_label.grid(row=2, column=0, columnspan=2, pady=20)\n",
    "\n",
    "window.mainloop()\n"
   ]
  }
 ],
 "metadata": {
  "kernelspec": {
   "display_name": "Python 3",
   "language": "python",
   "name": "python3"
  },
  "language_info": {
   "codemirror_mode": {
    "name": "ipython",
    "version": 3
   },
   "file_extension": ".py",
   "mimetype": "text/x-python",
   "name": "python",
   "nbconvert_exporter": "python",
   "pygments_lexer": "ipython3",
   "version": "3.12.3"
  }
 },
 "nbformat": 4,
 "nbformat_minor": 2
}
